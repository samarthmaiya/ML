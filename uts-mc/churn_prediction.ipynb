{
  "nbformat": 4,
  "nbformat_minor": 0,
  "metadata": {
    "colab": {
      "name": "churn-prediction.ipynb",
      "provenance": [],
      "collapsed_sections": []
    },
    "kernelspec": {
      "name": "python3",
      "display_name": "Python 3"
    },
    "language_info": {
      "name": "python"
    }
  },
  "cells": [
    {
      "cell_type": "code",
      "metadata": {
        "id": "6P_9KzxsU6g5"
      },
      "source": [
        "import pandas as pd\n",
        "import numpy as np\n",
        "from collections import Counter"
      ],
      "execution_count": 33,
      "outputs": []
    },
    {
      "cell_type": "code",
      "metadata": {
        "colab": {
          "base_uri": "https://localhost:8080/"
        },
        "id": "LGw0vwQZwP6a",
        "outputId": "f6074f28-f46a-4d79-844d-b4f73842d16f"
      },
      "source": [
        "cd sample_data"
      ],
      "execution_count": 34,
      "outputs": [
        {
          "output_type": "stream",
          "text": [
            "/content/sample_data/sample_data\n"
          ],
          "name": "stdout"
        }
      ]
    },
    {
      "cell_type": "code",
      "metadata": {
        "colab": {
          "base_uri": "https://localhost:8080/"
        },
        "id": "xq9DnhXqnDZ8",
        "outputId": "caf472e0-f920-42b4-86a3-f96bd4725bad"
      },
      "source": [
        "'''\n",
        "get the churn data set from https://github.com/samarthmaiya/ML/raw/master/\n",
        "'''\n",
        "!wget https://github.com/samarthmaiya/ML/raw/master/uts-mc/churn.zip"
      ],
      "execution_count": 35,
      "outputs": [
        {
          "output_type": "stream",
          "text": [
            "--2021-07-12 17:51:14--  https://github.com/samarthmaiya/ML/raw/master/uts-mc/churn.zip\n",
            "Resolving github.com (github.com)... 140.82.121.3\n",
            "Connecting to github.com (github.com)|140.82.121.3|:443... connected.\n",
            "HTTP request sent, awaiting response... 302 Found\n",
            "Location: https://raw.githubusercontent.com/samarthmaiya/ML/master/uts-mc/churn.zip [following]\n",
            "--2021-07-12 17:51:14--  https://raw.githubusercontent.com/samarthmaiya/ML/master/uts-mc/churn.zip\n",
            "Resolving raw.githubusercontent.com (raw.githubusercontent.com)... 185.199.108.133, 185.199.109.133, 185.199.110.133, ...\n",
            "Connecting to raw.githubusercontent.com (raw.githubusercontent.com)|185.199.108.133|:443... connected.\n",
            "HTTP request sent, awaiting response... 200 OK\n",
            "Length: 156460 (153K) [application/zip]\n",
            "Saving to: ‘churn.zip’\n",
            "\n",
            "churn.zip           100%[===================>] 152.79K  --.-KB/s    in 0.01s   \n",
            "\n",
            "2021-07-12 17:51:15 (15.4 MB/s) - ‘churn.zip’ saved [156460/156460]\n",
            "\n"
          ],
          "name": "stdout"
        }
      ]
    },
    {
      "cell_type": "code",
      "metadata": {
        "id": "q4Q41UoVtVeY"
      },
      "source": [
        "import zipfile\n",
        "with zipfile.ZipFile('churn.zip', 'r') as zip_ref:\n",
        "  zip_ref.extractall('sample_data')"
      ],
      "execution_count": 36,
      "outputs": []
    },
    {
      "cell_type": "code",
      "metadata": {
        "id": "3H09ecX5mfmC"
      },
      "source": [
        "df = pd.read_csv('sample_data/WA_Fn-UseC_-Telco-Customer-Churn.csv')"
      ],
      "execution_count": 37,
      "outputs": []
    },
    {
      "cell_type": "code",
      "metadata": {
        "colab": {
          "base_uri": "https://localhost:8080/",
          "height": 309
        },
        "id": "Y-WrcDra4eTE",
        "outputId": "45833e19-ac50-41e0-9cbb-3b341756002b"
      },
      "source": [
        "df.head()"
      ],
      "execution_count": 38,
      "outputs": [
        {
          "output_type": "execute_result",
          "data": {
            "text/html": [
              "<div>\n",
              "<style scoped>\n",
              "    .dataframe tbody tr th:only-of-type {\n",
              "        vertical-align: middle;\n",
              "    }\n",
              "\n",
              "    .dataframe tbody tr th {\n",
              "        vertical-align: top;\n",
              "    }\n",
              "\n",
              "    .dataframe thead th {\n",
              "        text-align: right;\n",
              "    }\n",
              "</style>\n",
              "<table border=\"1\" class=\"dataframe\">\n",
              "  <thead>\n",
              "    <tr style=\"text-align: right;\">\n",
              "      <th></th>\n",
              "      <th>customerID</th>\n",
              "      <th>gender</th>\n",
              "      <th>SeniorCitizen</th>\n",
              "      <th>Partner</th>\n",
              "      <th>Dependents</th>\n",
              "      <th>tenure</th>\n",
              "      <th>PhoneService</th>\n",
              "      <th>MultipleLines</th>\n",
              "      <th>InternetService</th>\n",
              "      <th>OnlineSecurity</th>\n",
              "      <th>OnlineBackup</th>\n",
              "      <th>DeviceProtection</th>\n",
              "      <th>TechSupport</th>\n",
              "      <th>StreamingTV</th>\n",
              "      <th>StreamingMovies</th>\n",
              "      <th>Contract</th>\n",
              "      <th>PaperlessBilling</th>\n",
              "      <th>PaymentMethod</th>\n",
              "      <th>MonthlyCharges</th>\n",
              "      <th>TotalCharges</th>\n",
              "      <th>Churn</th>\n",
              "    </tr>\n",
              "  </thead>\n",
              "  <tbody>\n",
              "    <tr>\n",
              "      <th>0</th>\n",
              "      <td>7590-VHVEG</td>\n",
              "      <td>Female</td>\n",
              "      <td>0</td>\n",
              "      <td>Yes</td>\n",
              "      <td>No</td>\n",
              "      <td>1</td>\n",
              "      <td>No</td>\n",
              "      <td>No phone service</td>\n",
              "      <td>DSL</td>\n",
              "      <td>No</td>\n",
              "      <td>Yes</td>\n",
              "      <td>No</td>\n",
              "      <td>No</td>\n",
              "      <td>No</td>\n",
              "      <td>No</td>\n",
              "      <td>Month-to-month</td>\n",
              "      <td>Yes</td>\n",
              "      <td>Electronic check</td>\n",
              "      <td>29.85</td>\n",
              "      <td>29.85</td>\n",
              "      <td>No</td>\n",
              "    </tr>\n",
              "    <tr>\n",
              "      <th>1</th>\n",
              "      <td>5575-GNVDE</td>\n",
              "      <td>Male</td>\n",
              "      <td>0</td>\n",
              "      <td>No</td>\n",
              "      <td>No</td>\n",
              "      <td>34</td>\n",
              "      <td>Yes</td>\n",
              "      <td>No</td>\n",
              "      <td>DSL</td>\n",
              "      <td>Yes</td>\n",
              "      <td>No</td>\n",
              "      <td>Yes</td>\n",
              "      <td>No</td>\n",
              "      <td>No</td>\n",
              "      <td>No</td>\n",
              "      <td>One year</td>\n",
              "      <td>No</td>\n",
              "      <td>Mailed check</td>\n",
              "      <td>56.95</td>\n",
              "      <td>1889.5</td>\n",
              "      <td>No</td>\n",
              "    </tr>\n",
              "    <tr>\n",
              "      <th>2</th>\n",
              "      <td>3668-QPYBK</td>\n",
              "      <td>Male</td>\n",
              "      <td>0</td>\n",
              "      <td>No</td>\n",
              "      <td>No</td>\n",
              "      <td>2</td>\n",
              "      <td>Yes</td>\n",
              "      <td>No</td>\n",
              "      <td>DSL</td>\n",
              "      <td>Yes</td>\n",
              "      <td>Yes</td>\n",
              "      <td>No</td>\n",
              "      <td>No</td>\n",
              "      <td>No</td>\n",
              "      <td>No</td>\n",
              "      <td>Month-to-month</td>\n",
              "      <td>Yes</td>\n",
              "      <td>Mailed check</td>\n",
              "      <td>53.85</td>\n",
              "      <td>108.15</td>\n",
              "      <td>Yes</td>\n",
              "    </tr>\n",
              "    <tr>\n",
              "      <th>3</th>\n",
              "      <td>7795-CFOCW</td>\n",
              "      <td>Male</td>\n",
              "      <td>0</td>\n",
              "      <td>No</td>\n",
              "      <td>No</td>\n",
              "      <td>45</td>\n",
              "      <td>No</td>\n",
              "      <td>No phone service</td>\n",
              "      <td>DSL</td>\n",
              "      <td>Yes</td>\n",
              "      <td>No</td>\n",
              "      <td>Yes</td>\n",
              "      <td>Yes</td>\n",
              "      <td>No</td>\n",
              "      <td>No</td>\n",
              "      <td>One year</td>\n",
              "      <td>No</td>\n",
              "      <td>Bank transfer (automatic)</td>\n",
              "      <td>42.30</td>\n",
              "      <td>1840.75</td>\n",
              "      <td>No</td>\n",
              "    </tr>\n",
              "    <tr>\n",
              "      <th>4</th>\n",
              "      <td>9237-HQITU</td>\n",
              "      <td>Female</td>\n",
              "      <td>0</td>\n",
              "      <td>No</td>\n",
              "      <td>No</td>\n",
              "      <td>2</td>\n",
              "      <td>Yes</td>\n",
              "      <td>No</td>\n",
              "      <td>Fiber optic</td>\n",
              "      <td>No</td>\n",
              "      <td>No</td>\n",
              "      <td>No</td>\n",
              "      <td>No</td>\n",
              "      <td>No</td>\n",
              "      <td>No</td>\n",
              "      <td>Month-to-month</td>\n",
              "      <td>Yes</td>\n",
              "      <td>Electronic check</td>\n",
              "      <td>70.70</td>\n",
              "      <td>151.65</td>\n",
              "      <td>Yes</td>\n",
              "    </tr>\n",
              "  </tbody>\n",
              "</table>\n",
              "</div>"
            ],
            "text/plain": [
              "   customerID  gender  SeniorCitizen  ... MonthlyCharges TotalCharges  Churn\n",
              "0  7590-VHVEG  Female              0  ...          29.85        29.85     No\n",
              "1  5575-GNVDE    Male              0  ...          56.95       1889.5     No\n",
              "2  3668-QPYBK    Male              0  ...          53.85       108.15    Yes\n",
              "3  7795-CFOCW    Male              0  ...          42.30      1840.75     No\n",
              "4  9237-HQITU  Female              0  ...          70.70       151.65    Yes\n",
              "\n",
              "[5 rows x 21 columns]"
            ]
          },
          "metadata": {
            "tags": []
          },
          "execution_count": 38
        }
      ]
    },
    {
      "cell_type": "code",
      "metadata": {
        "id": "u_7pYPGp4syM"
      },
      "source": [
        "df.dropna(inplace = True)"
      ],
      "execution_count": 39,
      "outputs": []
    },
    {
      "cell_type": "code",
      "metadata": {
        "id": "pp1EGi6J43lM"
      },
      "source": [
        "class onehotencoder:    \n",
        "    \n",
        "    def __init__(self, dataframe,encodingvalue):\n",
        "        self.encode(dataframe,encodingvalue)\n",
        "        \n",
        "    def coloumnencoder(self ,i , encodingvalue):\n",
        "      '''\n",
        "      param coloumn from data fram\n",
        "      param encoded set value\n",
        "      return string to numeric encoded data\n",
        "      '''\n",
        "    #encodingvalue =  [('Yes' , 1), ('No' , 0)]\n",
        "      retundata = 9\n",
        "      for k,v in encodingvalue:   \n",
        "          if(i == k):\n",
        "              retundata =  v\n",
        "      return retundata;\n",
        "    \n",
        "    def encode(self,dataframe, encodingvalue):  \n",
        "        '''\n",
        "        helper function to prepare dataframe\n",
        "        param dataframe\n",
        "        param encoding value\n",
        "        return  null\n",
        "        '''\n",
        "        index = 0\n",
        "        for i in dataframe:    \n",
        "            #print(i,self.coloumnencoder(i),index)\n",
        "            dataframe[index] = self.coloumnencoder(i ,encodingvalue )\n",
        "            index +=1\n"
      ],
      "execution_count": 41,
      "outputs": []
    },
    {
      "cell_type": "code",
      "metadata": {
        "id": "WaN9nl-x5LZx"
      },
      "source": [
        "def preparedictionary(datafram ,coloumnname):\n",
        "    '''\n",
        "    param input dataframe\n",
        "    param input coloumn name\n",
        "    return dictionary of unquie numeric value with resepect to string\n",
        "    '''\n",
        "    dicdata = []\n",
        "    index = 0\n",
        "    for i in datafram[coloumnname].unique():\n",
        "        dicdata.append((i,index))\n",
        "        index +=1\n",
        "    print(\"coloumnname ::\" , coloumnname , dicdata)\n",
        "    return dicdata"
      ],
      "execution_count": 42,
      "outputs": []
    },
    {
      "cell_type": "code",
      "metadata": {
        "colab": {
          "base_uri": "https://localhost:8080/"
        },
        "id": "4NefLK295Qef",
        "outputId": "3c23cb49-6362-4623-e6b0-59cd9e2dfba9"
      },
      "source": [
        "coltobeencoded = ['gender', 'Partner', 'Dependents','PhoneService', 'MultipleLines', 'InternetService',\n",
        "       'OnlineSecurity', 'OnlineBackup', 'DeviceProtection', 'TechSupport','StreamingTV', 'StreamingMovies', 'Contract', 'PaperlessBilling',\n",
        "       'PaymentMethod','Churn' ]\n",
        "\n",
        "for i in coltobeencoded:\n",
        "    dictdata = preparedictionary(df,i)\n",
        "    onehotencoder(df[i][:],dictdata)"
      ],
      "execution_count": 43,
      "outputs": [
        {
          "output_type": "stream",
          "text": [
            "coloumnname :: gender [('Female', 0), ('Male', 1)]\n",
            "coloumnname :: Partner [('Yes', 0), ('No', 1)]\n",
            "coloumnname :: Dependents [('No', 0), ('Yes', 1)]\n",
            "coloumnname :: PhoneService [('No', 0), ('Yes', 1)]\n",
            "coloumnname :: MultipleLines [('No phone service', 0), ('No', 1), ('Yes', 2)]\n",
            "coloumnname :: InternetService [('DSL', 0), ('Fiber optic', 1), ('No', 2)]\n",
            "coloumnname :: OnlineSecurity [('No', 0), ('Yes', 1), ('No internet service', 2)]\n",
            "coloumnname :: OnlineBackup [('Yes', 0), ('No', 1), ('No internet service', 2)]\n",
            "coloumnname :: DeviceProtection [('No', 0), ('Yes', 1), ('No internet service', 2)]\n",
            "coloumnname :: TechSupport [('No', 0), ('Yes', 1), ('No internet service', 2)]\n",
            "coloumnname :: StreamingTV [('No', 0), ('Yes', 1), ('No internet service', 2)]\n",
            "coloumnname :: StreamingMovies [('No', 0), ('Yes', 1), ('No internet service', 2)]\n",
            "coloumnname :: Contract [('Month-to-month', 0), ('One year', 1), ('Two year', 2)]\n",
            "coloumnname :: PaperlessBilling [('Yes', 0), ('No', 1)]\n",
            "coloumnname :: PaymentMethod [('Electronic check', 0), ('Mailed check', 1), ('Bank transfer (automatic)', 2), ('Credit card (automatic)', 3)]\n",
            "coloumnname :: Churn [('No', 0), ('Yes', 1)]\n"
          ],
          "name": "stdout"
        }
      ]
    },
    {
      "cell_type": "code",
      "metadata": {
        "id": "7nv4EhX_5VEN"
      },
      "source": [
        "df.to_csv('pre-processesed churn.csv',index=False)"
      ],
      "execution_count": 44,
      "outputs": []
    },
    {
      "cell_type": "code",
      "metadata": {
        "colab": {
          "base_uri": "https://localhost:8080/",
          "height": 309
        },
        "id": "OM9MOIvT5wpO",
        "outputId": "dcac0b64-601f-40bc-910b-fbc65c2e7dc5"
      },
      "source": [
        "df.head()"
      ],
      "execution_count": 45,
      "outputs": [
        {
          "output_type": "execute_result",
          "data": {
            "text/html": [
              "<div>\n",
              "<style scoped>\n",
              "    .dataframe tbody tr th:only-of-type {\n",
              "        vertical-align: middle;\n",
              "    }\n",
              "\n",
              "    .dataframe tbody tr th {\n",
              "        vertical-align: top;\n",
              "    }\n",
              "\n",
              "    .dataframe thead th {\n",
              "        text-align: right;\n",
              "    }\n",
              "</style>\n",
              "<table border=\"1\" class=\"dataframe\">\n",
              "  <thead>\n",
              "    <tr style=\"text-align: right;\">\n",
              "      <th></th>\n",
              "      <th>customerID</th>\n",
              "      <th>gender</th>\n",
              "      <th>SeniorCitizen</th>\n",
              "      <th>Partner</th>\n",
              "      <th>Dependents</th>\n",
              "      <th>tenure</th>\n",
              "      <th>PhoneService</th>\n",
              "      <th>MultipleLines</th>\n",
              "      <th>InternetService</th>\n",
              "      <th>OnlineSecurity</th>\n",
              "      <th>OnlineBackup</th>\n",
              "      <th>DeviceProtection</th>\n",
              "      <th>TechSupport</th>\n",
              "      <th>StreamingTV</th>\n",
              "      <th>StreamingMovies</th>\n",
              "      <th>Contract</th>\n",
              "      <th>PaperlessBilling</th>\n",
              "      <th>PaymentMethod</th>\n",
              "      <th>MonthlyCharges</th>\n",
              "      <th>TotalCharges</th>\n",
              "      <th>Churn</th>\n",
              "    </tr>\n",
              "  </thead>\n",
              "  <tbody>\n",
              "    <tr>\n",
              "      <th>0</th>\n",
              "      <td>7590-VHVEG</td>\n",
              "      <td>0</td>\n",
              "      <td>0</td>\n",
              "      <td>0</td>\n",
              "      <td>0</td>\n",
              "      <td>1</td>\n",
              "      <td>0</td>\n",
              "      <td>0</td>\n",
              "      <td>0</td>\n",
              "      <td>0</td>\n",
              "      <td>0</td>\n",
              "      <td>0</td>\n",
              "      <td>0</td>\n",
              "      <td>0</td>\n",
              "      <td>0</td>\n",
              "      <td>0</td>\n",
              "      <td>0</td>\n",
              "      <td>0</td>\n",
              "      <td>29.85</td>\n",
              "      <td>29.85</td>\n",
              "      <td>0</td>\n",
              "    </tr>\n",
              "    <tr>\n",
              "      <th>1</th>\n",
              "      <td>5575-GNVDE</td>\n",
              "      <td>1</td>\n",
              "      <td>0</td>\n",
              "      <td>1</td>\n",
              "      <td>0</td>\n",
              "      <td>34</td>\n",
              "      <td>1</td>\n",
              "      <td>1</td>\n",
              "      <td>0</td>\n",
              "      <td>1</td>\n",
              "      <td>1</td>\n",
              "      <td>1</td>\n",
              "      <td>0</td>\n",
              "      <td>0</td>\n",
              "      <td>0</td>\n",
              "      <td>1</td>\n",
              "      <td>1</td>\n",
              "      <td>1</td>\n",
              "      <td>56.95</td>\n",
              "      <td>1889.5</td>\n",
              "      <td>0</td>\n",
              "    </tr>\n",
              "    <tr>\n",
              "      <th>2</th>\n",
              "      <td>3668-QPYBK</td>\n",
              "      <td>1</td>\n",
              "      <td>0</td>\n",
              "      <td>1</td>\n",
              "      <td>0</td>\n",
              "      <td>2</td>\n",
              "      <td>1</td>\n",
              "      <td>1</td>\n",
              "      <td>0</td>\n",
              "      <td>1</td>\n",
              "      <td>0</td>\n",
              "      <td>0</td>\n",
              "      <td>0</td>\n",
              "      <td>0</td>\n",
              "      <td>0</td>\n",
              "      <td>0</td>\n",
              "      <td>0</td>\n",
              "      <td>1</td>\n",
              "      <td>53.85</td>\n",
              "      <td>108.15</td>\n",
              "      <td>1</td>\n",
              "    </tr>\n",
              "    <tr>\n",
              "      <th>3</th>\n",
              "      <td>7795-CFOCW</td>\n",
              "      <td>1</td>\n",
              "      <td>0</td>\n",
              "      <td>1</td>\n",
              "      <td>0</td>\n",
              "      <td>45</td>\n",
              "      <td>0</td>\n",
              "      <td>0</td>\n",
              "      <td>0</td>\n",
              "      <td>1</td>\n",
              "      <td>1</td>\n",
              "      <td>1</td>\n",
              "      <td>1</td>\n",
              "      <td>0</td>\n",
              "      <td>0</td>\n",
              "      <td>1</td>\n",
              "      <td>1</td>\n",
              "      <td>2</td>\n",
              "      <td>42.30</td>\n",
              "      <td>1840.75</td>\n",
              "      <td>0</td>\n",
              "    </tr>\n",
              "    <tr>\n",
              "      <th>4</th>\n",
              "      <td>9237-HQITU</td>\n",
              "      <td>0</td>\n",
              "      <td>0</td>\n",
              "      <td>1</td>\n",
              "      <td>0</td>\n",
              "      <td>2</td>\n",
              "      <td>1</td>\n",
              "      <td>1</td>\n",
              "      <td>1</td>\n",
              "      <td>0</td>\n",
              "      <td>1</td>\n",
              "      <td>0</td>\n",
              "      <td>0</td>\n",
              "      <td>0</td>\n",
              "      <td>0</td>\n",
              "      <td>0</td>\n",
              "      <td>0</td>\n",
              "      <td>0</td>\n",
              "      <td>70.70</td>\n",
              "      <td>151.65</td>\n",
              "      <td>1</td>\n",
              "    </tr>\n",
              "  </tbody>\n",
              "</table>\n",
              "</div>"
            ],
            "text/plain": [
              "   customerID gender  SeniorCitizen  ... MonthlyCharges TotalCharges  Churn\n",
              "0  7590-VHVEG      0              0  ...          29.85        29.85      0\n",
              "1  5575-GNVDE      1              0  ...          56.95       1889.5      0\n",
              "2  3668-QPYBK      1              0  ...          53.85       108.15      1\n",
              "3  7795-CFOCW      1              0  ...          42.30      1840.75      0\n",
              "4  9237-HQITU      0              0  ...          70.70       151.65      1\n",
              "\n",
              "[5 rows x 21 columns]"
            ]
          },
          "metadata": {
            "tags": []
          },
          "execution_count": 45
        }
      ]
    },
    {
      "cell_type": "code",
      "metadata": {
        "id": "N2V_SZUz5zop"
      },
      "source": [
        "#drop null value if any from data set\n",
        "df.isnull().values.any()\n",
        "df.dropna(inplace =True)"
      ],
      "execution_count": 46,
      "outputs": []
    },
    {
      "cell_type": "code",
      "metadata": {
        "id": "ErB5wO6U58x1"
      },
      "source": [
        "#split the data for train and validation set based on user input , \n",
        "#future scpoe introduce random selector for generalization\n",
        "#test_size is in the range of 0.1 to 1\n",
        "def train_test_split(dataframe,test_size=0.1):\n",
        "    totalsize = len(dataframe)\n",
        "    testdatasize = int(test_size * totalsize)\n",
        "    \n",
        "    Xtraindata = dataframe[testdatasize:]\n",
        "    Xtestdata =  dataframe[:testdatasize]\n",
        "    \n",
        "    return Xtraindata, Xtestdata"
      ],
      "execution_count": 47,
      "outputs": []
    },
    {
      "cell_type": "code",
      "metadata": {
        "id": "il9WxWcy6B_t"
      },
      "source": [
        " Xtraindata, Xtestdata = train_test_split(df)"
      ],
      "execution_count": 48,
      "outputs": []
    },
    {
      "cell_type": "code",
      "metadata": {
        "colab": {
          "base_uri": "https://localhost:8080/"
        },
        "id": "IUzmPhkW6ECd",
        "outputId": "1562f873-34ad-40b6-f50d-7360677c26cf"
      },
      "source": [
        "print('train data shape ::::',Xtraindata.shape)\n",
        "print('test data shape ::::',Xtestdata.shape)"
      ],
      "execution_count": 49,
      "outputs": [
        {
          "output_type": "stream",
          "text": [
            "train data shape :::: (6339, 21)\n",
            "test data shape :::: (704, 21)\n"
          ],
          "name": "stdout"
        }
      ]
    },
    {
      "cell_type": "code",
      "metadata": {
        "id": "Ax18wvWgOyEX"
      },
      "source": [
        "class Node:\n",
        "    '''\n",
        "    single tree node.\n",
        "    '''\n",
        "    def __init__(self, feature=None, threshold=None, data_left=None, data_right=None, gain=None, value=None):\n",
        "        self.feature = feature\n",
        "        self.threshold = threshold\n",
        "        self.data_left = data_left\n",
        "        self.data_right = data_right\n",
        "        self.gain = gain\n",
        "        self.value = value"
      ],
      "execution_count": 50,
      "outputs": []
    },
    {
      "cell_type": "code",
      "metadata": {
        "id": "ErgxfVHOO7B7"
      },
      "source": [
        "class DecisionTree:\n",
        "\n",
        "    def __init__(self, min_samples_split=2, max_depth=4):\n",
        "        self.min_samples_split = min_samples_split\n",
        "        self.max_depth = max_depth\n",
        "        self.root = None\n",
        "        \n",
        "    @staticmethod\n",
        "    def _entropy(data):\n",
        "        '''\n",
        "        :param s: list\n",
        "        :return: float, entropy value\n",
        "        '''\n",
        "        coll = list(data)\n",
        "        _dict = {x:coll.count(x)/len(coll) for x in coll}\n",
        "        _prob = np.array(list(_dict.values()))\n",
        "        return - _prob.dot(np.log2(_prob))\n",
        "    \n",
        "    def _info_gain(self, parent, l_child, r_child):\n",
        "        '''\n",
        "        Information Gain = entropy(parent) – [average entropy(left_child) + average entropy(right_child)]\n",
        "        \n",
        "        :param parent: list, parent node\n",
        "        :param l_child: list, left child of a parent\n",
        "        :param r_child: list, right child of a parent\n",
        "        :return: float, information gain\n",
        "        '''\n",
        "        p_len = len(parent)\n",
        "        left_avg = len(l_child) /p_len \n",
        "        right_avg = len(r_child) /p_len\n",
        "        \n",
        "        # One-liner which implements the previously discussed formula\n",
        "        return self._entropy(parent) - (left_avg * self._entropy(l_child) + right_avg * self._entropy(r_child))\n",
        "    \n",
        "    def _best_split(self, X, y):\n",
        "        '''        \n",
        "        :param X: np.array, features\n",
        "        :param y: np.array or list, target\n",
        "        :return: dict\n",
        "        '''\n",
        "        best_split = {}\n",
        "        best_info_gain = -1\n",
        "        n_rows, n_cols = X.shape\n",
        "        \n",
        "        # for each feature\n",
        "        for f_idx in range(n_cols):\n",
        "            X_curr = X[:, f_idx]\n",
        "            # for very unique feature value\n",
        "            for currentth in np.unique(X_curr):\n",
        "                # split data set to the left and right parts\n",
        "                # Left includes records lower or equal to the threshold\n",
        "                # Right includes records higher than the threshold\n",
        "                p= np.concatenate((X, y.reshape(1, -1).T), axis=1)\n",
        "                p_left = np.array([row for row in p if row[f_idx] <= currentth])\n",
        "                p_right = np.array([row for row in p if row[f_idx] > currentth])\n",
        "\n",
        "                # calculate only if there's data in both subsets\n",
        "                if len(p_left) > 0 and len(p_right) > 0:\n",
        "                    # prepare subsets\n",
        "                    y = p[:, -1]\n",
        "                    y_left = p_left[:, -1]\n",
        "                    y_right = p_right[:, -1]\n",
        "\n",
        "                    # Caclulate the information gain \n",
        "                    # save the split parameters only if the current split if better then the previous best\n",
        "                    gain = self._info_gain(y, y_left, y_right)\n",
        "                    if gain > best_info_gain:\n",
        "                        best_split = {\n",
        "                            'threshold': currentth,\n",
        "                            'feature_index': f_idx,                            \n",
        "                            'df_left': p_left,\n",
        "                            'df_right': p_right,\n",
        "                            'gain': gain\n",
        "                        }\n",
        "                        best_info_gain = gain\n",
        "        return best_split\n",
        "    \n",
        "    def _build(self, X, y, depth=0):\n",
        "        '''\n",
        "         recursively iterate to build decession tree         \n",
        "        :param X: np.array, features\n",
        "        :param y: np.array or list, target\n",
        "        :param depth: current depth of a tree, used as a stopping criteria\n",
        "        :return: Node\n",
        "        '''\n",
        "        n_rows, n_cols = X.shape\n",
        "        \n",
        "        # Check to see if a node should be leaf node\n",
        "        if n_rows >= self.min_samples_split and depth <= self.max_depth:\n",
        "            # Get the best split\n",
        "            bestsplit = self._best_split(X, y)\n",
        "            # If the split isn't pure\n",
        "            if bestsplit['gain'] > 0:\n",
        "                # Build a tree on the left\n",
        "                left = self._build(\n",
        "                    X=bestsplit['df_left'][:, :-1], \n",
        "                    y=bestsplit['df_left'][:, -1], \n",
        "                    depth=depth + 1\n",
        "                )\n",
        "                right = self._build(\n",
        "                    X=bestsplit['df_right'][:, :-1], \n",
        "                    y=bestsplit['df_right'][:, -1], \n",
        "                    depth=depth + 1\n",
        "                )\n",
        "                return Node(\n",
        "                    feature=bestsplit['feature_index'], \n",
        "                    threshold=bestsplit['threshold'], \n",
        "                    data_left=left, \n",
        "                    data_right=right, \n",
        "                    gain=bestsplit['gain']\n",
        "                )\n",
        "        # Leaf node - value is the most common target value \n",
        "        return Node(\n",
        "            value=Counter(y).most_common(1)[0][0]\n",
        "        )\n",
        "    \n",
        "    def fit(self, X, y):\n",
        "        '''\n",
        "        train DT model.\n",
        "        \n",
        "        :param X: np.array, features\n",
        "        :param y: np.array or list, target\n",
        "        :return: None\n",
        "        '''\n",
        "        # Call a recursive function to build the tree\n",
        "        self.root = self._build(X, y)\n",
        "        \n",
        "    def _predict(self, x, tree):\n",
        "        '''\n",
        "        predict a data.\n",
        "        \n",
        "        :param x: single observation\n",
        "        :param tree: built tree\n",
        "        :return: float, predicted class\n",
        "        '''\n",
        "        # Leaf node\n",
        "        if tree.value != None:\n",
        "            return tree.value\n",
        "        feat_val = x[tree.feature]\n",
        "        \n",
        "        # Go to the left\n",
        "        if feat_val <= tree.threshold:\n",
        "            return self._predict(x=x, tree=tree.data_left)\n",
        "        \n",
        "        # Go to the right\n",
        "        if feat_val > tree.threshold:\n",
        "            return self._predict(x=x, tree=tree.data_right)\n",
        "        \n",
        "    def predict(self, X):\n",
        "        '''\n",
        "        classify new data.\n",
        "        \n",
        "        :param X: np.array, features\n",
        "        :return: np.array, predicted classes\n",
        "        '''\n",
        "        # Call the _predict() function for every observation\n",
        "        return [self._predict(x, self.root) for x in X]\n"
      ],
      "execution_count": 51,
      "outputs": []
    },
    {
      "cell_type": "code",
      "metadata": {
        "id": "3zFbDX1j6VlV"
      },
      "source": [
        "s = DecisionTree()"
      ],
      "execution_count": 52,
      "outputs": []
    },
    {
      "cell_type": "code",
      "metadata": {
        "id": "WwLy3a-26Wjl"
      },
      "source": [
        "a = Xtrain[:2000].to_numpy()\n",
        "b = Ytrain[:2000].to_numpy()"
      ],
      "execution_count": 55,
      "outputs": []
    },
    {
      "cell_type": "code",
      "metadata": {
        "id": "k6thgklc6ZqA"
      },
      "source": [
        "s.fit(a,b)"
      ],
      "execution_count": 56,
      "outputs": []
    },
    {
      "cell_type": "code",
      "metadata": {
        "id": "nV5AG2dX6cTf"
      },
      "source": [
        "a1 = xtest.iloc[:700].to_numpy()\n",
        "b1 = ytest.iloc[:700].to_numpy()"
      ],
      "execution_count": 57,
      "outputs": []
    },
    {
      "cell_type": "code",
      "metadata": {
        "id": "Ber5tc5g6eoH"
      },
      "source": [
        "preddata = np.array(s.predict(a1))"
      ],
      "execution_count": 58,
      "outputs": []
    },
    {
      "cell_type": "code",
      "metadata": {
        "id": "DJeFQHah6guN"
      },
      "source": [
        "def accuracy(actual,predicted):\n",
        "    yhat=actual\n",
        "    y=predicted\n",
        "    acc=np.mean(y==yhat)\n",
        "    return acc"
      ],
      "execution_count": 59,
      "outputs": []
    },
    {
      "cell_type": "code",
      "metadata": {
        "colab": {
          "base_uri": "https://localhost:8080/"
        },
        "id": "dCkIMLNQ6i94",
        "outputId": "bd6fc974-9625-4620-b9b1-da8968a3f43a"
      },
      "source": [
        "accuracy(b1,preddata)"
      ],
      "execution_count": 60,
      "outputs": [
        {
          "output_type": "execute_result",
          "data": {
            "text/plain": [
              "0.7814285714285715"
            ]
          },
          "metadata": {
            "tags": []
          },
          "execution_count": 60
        }
      ]
    }
  ]
}