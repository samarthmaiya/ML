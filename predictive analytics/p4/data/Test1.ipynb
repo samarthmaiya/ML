{
 "cells": [
  {
   "cell_type": "code",
   "execution_count": 1,
   "metadata": {
    "collapsed": true
   },
   "outputs": [],
   "source": [
    "from sklearn.model_selection import cross_val_score\n",
    "import pandas as pd"
   ]
  },
  {
   "cell_type": "code",
   "execution_count": 2,
   "metadata": {
    "collapsed": true
   },
   "outputs": [],
   "source": [
    "train = pd.read_csv('train.csv')"
   ]
  },
  {
   "attachments": {
    "image.png": {
     "image/png": "[encoded data removed]"
    }
   },
   "cell_type": "markdown",
   "metadata": {},
   "source": [
    "# ![image.png](attachment:image.png)"
   ]
  },
  {
   "cell_type": "code",
   "execution_count": 3,
   "metadata": {},
   "outputs": [
    {
     "data": {
      "text/html": [
       "<div>\n",
       "<style>\n",
       "    .dataframe thead tr:only-child th {\n",
       "        text-align: right;\n",
       "    }\n",
       "\n",
       "    .dataframe thead th {\n",
       "        text-align: left;\n",
       "    }\n",
       "\n",
       "    .dataframe tbody tr th {\n",
       "        vertical-align: top;\n",
       "    }\n",
       "</style>\n",
       "<table border=\"1\" class=\"dataframe\">\n",
       "  <thead>\n",
       "    <tr style=\"text-align: right;\">\n",
       "      <th></th>\n",
       "      <th>transaction_id</th>\n",
       "      <th>num_var_1</th>\n",
       "      <th>num_var_2</th>\n",
       "      <th>num_var_3</th>\n",
       "      <th>num_var_4</th>\n",
       "      <th>num_var_5</th>\n",
       "      <th>num_var_6</th>\n",
       "      <th>num_var_7</th>\n",
       "      <th>cat_var_1</th>\n",
       "      <th>cat_var_2</th>\n",
       "      <th>...</th>\n",
       "      <th>cat_var_34</th>\n",
       "      <th>cat_var_35</th>\n",
       "      <th>cat_var_36</th>\n",
       "      <th>cat_var_37</th>\n",
       "      <th>cat_var_38</th>\n",
       "      <th>cat_var_39</th>\n",
       "      <th>cat_var_40</th>\n",
       "      <th>cat_var_41</th>\n",
       "      <th>cat_var_42</th>\n",
       "      <th>target</th>\n",
       "    </tr>\n",
       "  </thead>\n",
       "  <tbody>\n",
       "    <tr>\n",
       "      <th>0</th>\n",
       "      <td>id_11</td>\n",
       "      <td>2.302632e-08</td>\n",
       "      <td>0.040182</td>\n",
       "      <td>0.0</td>\n",
       "      <td>1.800000e-07</td>\n",
       "      <td>2.302632e-08</td>\n",
       "      <td>2.368421e-08</td>\n",
       "      <td>1.115205e-08</td>\n",
       "      <td>NaN</td>\n",
       "      <td>ce</td>\n",
       "      <td>...</td>\n",
       "      <td>0</td>\n",
       "      <td>0</td>\n",
       "      <td>0</td>\n",
       "      <td>0</td>\n",
       "      <td>0</td>\n",
       "      <td>0</td>\n",
       "      <td>0</td>\n",
       "      <td>0</td>\n",
       "      <td>0</td>\n",
       "      <td>0</td>\n",
       "    </tr>\n",
       "    <tr>\n",
       "      <th>1</th>\n",
       "      <td>id_33</td>\n",
       "      <td>7.965789e-06</td>\n",
       "      <td>0.157872</td>\n",
       "      <td>0.0</td>\n",
       "      <td>2.105000e-06</td>\n",
       "      <td>2.769737e-07</td>\n",
       "      <td>7.965789e-06</td>\n",
       "      <td>2.433058e-06</td>\n",
       "      <td>da</td>\n",
       "      <td>tn</td>\n",
       "      <td>...</td>\n",
       "      <td>0</td>\n",
       "      <td>0</td>\n",
       "      <td>0</td>\n",
       "      <td>0</td>\n",
       "      <td>0</td>\n",
       "      <td>0</td>\n",
       "      <td>0</td>\n",
       "      <td>0</td>\n",
       "      <td>0</td>\n",
       "      <td>0</td>\n",
       "    </tr>\n",
       "    <tr>\n",
       "      <th>2</th>\n",
       "      <td>id_51</td>\n",
       "      <td>7.828947e-08</td>\n",
       "      <td>0.089140</td>\n",
       "      <td>0.0</td>\n",
       "      <td>3.550000e-07</td>\n",
       "      <td>4.671053e-08</td>\n",
       "      <td>1.052632e-07</td>\n",
       "      <td>4.276014e-07</td>\n",
       "      <td>gf</td>\n",
       "      <td>ce</td>\n",
       "      <td>...</td>\n",
       "      <td>0</td>\n",
       "      <td>0</td>\n",
       "      <td>0</td>\n",
       "      <td>0</td>\n",
       "      <td>0</td>\n",
       "      <td>0</td>\n",
       "      <td>0</td>\n",
       "      <td>0</td>\n",
       "      <td>0</td>\n",
       "      <td>0</td>\n",
       "    </tr>\n",
       "    <tr>\n",
       "      <th>3</th>\n",
       "      <td>id_54</td>\n",
       "      <td>7.894737e-08</td>\n",
       "      <td>0.227239</td>\n",
       "      <td>0.0</td>\n",
       "      <td>1.050000e-06</td>\n",
       "      <td>1.381579e-07</td>\n",
       "      <td>2.190789e-07</td>\n",
       "      <td>1.848054e-08</td>\n",
       "      <td>NaN</td>\n",
       "      <td>ce</td>\n",
       "      <td>...</td>\n",
       "      <td>0</td>\n",
       "      <td>0</td>\n",
       "      <td>0</td>\n",
       "      <td>0</td>\n",
       "      <td>0</td>\n",
       "      <td>0</td>\n",
       "      <td>0</td>\n",
       "      <td>0</td>\n",
       "      <td>0</td>\n",
       "      <td>0</td>\n",
       "    </tr>\n",
       "    <tr>\n",
       "      <th>4</th>\n",
       "      <td>id_62</td>\n",
       "      <td>3.321053e-06</td>\n",
       "      <td>0.160410</td>\n",
       "      <td>0.0</td>\n",
       "      <td>2.105000e-06</td>\n",
       "      <td>2.769737e-07</td>\n",
       "      <td>3.340789e-06</td>\n",
       "      <td>2.152983e-06</td>\n",
       "      <td>da</td>\n",
       "      <td>tn</td>\n",
       "      <td>...</td>\n",
       "      <td>0</td>\n",
       "      <td>0</td>\n",
       "      <td>0</td>\n",
       "      <td>0</td>\n",
       "      <td>0</td>\n",
       "      <td>0</td>\n",
       "      <td>0</td>\n",
       "      <td>0</td>\n",
       "      <td>0</td>\n",
       "      <td>0</td>\n",
       "    </tr>\n",
       "  </tbody>\n",
       "</table>\n",
       "<p>5 rows × 51 columns</p>\n",
       "</div>"
      ],
      "text/plain": [
       "  transaction_id     num_var_1  num_var_2  num_var_3     num_var_4  \\\n",
       "0          id_11  2.302632e-08   0.040182        0.0  1.800000e-07   \n",
       "1          id_33  7.965789e-06   0.157872        0.0  2.105000e-06   \n",
       "2          id_51  7.828947e-08   0.089140        0.0  3.550000e-07   \n",
       "3          id_54  7.894737e-08   0.227239        0.0  1.050000e-06   \n",
       "4          id_62  3.321053e-06   0.160410        0.0  2.105000e-06   \n",
       "\n",
       "      num_var_5     num_var_6     num_var_7 cat_var_1 cat_var_2  ...    \\\n",
       "0  2.302632e-08  2.368421e-08  1.115205e-08       NaN        ce  ...     \n",
       "1  2.769737e-07  7.965789e-06  2.433058e-06        da        tn  ...     \n",
       "2  4.671053e-08  1.052632e-07  4.276014e-07        gf        ce  ...     \n",
       "3  1.381579e-07  2.190789e-07  1.848054e-08       NaN        ce  ...     \n",
       "4  2.769737e-07  3.340789e-06  2.152983e-06        da        tn  ...     \n",
       "\n",
       "  cat_var_34 cat_var_35 cat_var_36 cat_var_37 cat_var_38 cat_var_39  \\\n",
       "0          0          0          0          0          0          0   \n",
       "1          0          0          0          0          0          0   \n",
       "2          0          0          0          0          0          0   \n",
       "3          0          0          0          0          0          0   \n",
       "4          0          0          0          0          0          0   \n",
       "\n",
       "  cat_var_40 cat_var_41 cat_var_42 target  \n",
       "0          0          0          0      0  \n",
       "1          0          0          0      0  \n",
       "2          0          0          0      0  \n",
       "3          0          0          0      0  \n",
       "4          0          0          0      0  \n",
       "\n",
       "[5 rows x 51 columns]"
      ]
     },
     "execution_count": 3,
     "metadata": {},
     "output_type": "execute_result"
    }
   ],
   "source": [
    "train.head()"
   ]
  },
  {
   "cell_type": "code",
   "execution_count": 4,
   "metadata": {},
   "outputs": [
    {
     "data": {
      "text/plain": [
       "(348978, 51)"
      ]
     },
     "execution_count": 4,
     "metadata": {},
     "output_type": "execute_result"
    }
   ],
   "source": [
    "train.shape"
   ]
  },
  {
   "cell_type": "code",
   "execution_count": 5,
   "metadata": {
    "collapsed": true
   },
   "outputs": [],
   "source": [
    "train_data = train.iloc[:,1:50]\n",
    "label = train.iloc[:,-1]"
   ]
  },
  {
   "cell_type": "code",
   "execution_count": 6,
   "metadata": {},
   "outputs": [
    {
     "data": {
      "text/html": [
       "<div>\n",
       "<style>\n",
       "    .dataframe thead tr:only-child th {\n",
       "        text-align: right;\n",
       "    }\n",
       "\n",
       "    .dataframe thead th {\n",
       "        text-align: left;\n",
       "    }\n",
       "\n",
       "    .dataframe tbody tr th {\n",
       "        vertical-align: top;\n",
       "    }\n",
       "</style>\n",
       "<table border=\"1\" class=\"dataframe\">\n",
       "  <thead>\n",
       "    <tr style=\"text-align: right;\">\n",
       "      <th></th>\n",
       "      <th>num_var_1</th>\n",
       "      <th>num_var_2</th>\n",
       "      <th>num_var_3</th>\n",
       "      <th>num_var_4</th>\n",
       "      <th>num_var_5</th>\n",
       "      <th>num_var_6</th>\n",
       "      <th>num_var_7</th>\n",
       "      <th>cat_var_1</th>\n",
       "      <th>cat_var_2</th>\n",
       "      <th>cat_var_3</th>\n",
       "      <th>...</th>\n",
       "      <th>cat_var_33</th>\n",
       "      <th>cat_var_34</th>\n",
       "      <th>cat_var_35</th>\n",
       "      <th>cat_var_36</th>\n",
       "      <th>cat_var_37</th>\n",
       "      <th>cat_var_38</th>\n",
       "      <th>cat_var_39</th>\n",
       "      <th>cat_var_40</th>\n",
       "      <th>cat_var_41</th>\n",
       "      <th>cat_var_42</th>\n",
       "    </tr>\n",
       "  </thead>\n",
       "  <tbody>\n",
       "    <tr>\n",
       "      <th>0</th>\n",
       "      <td>2.302632e-08</td>\n",
       "      <td>0.040182</td>\n",
       "      <td>0.0</td>\n",
       "      <td>1.800000e-07</td>\n",
       "      <td>2.302632e-08</td>\n",
       "      <td>2.368421e-08</td>\n",
       "      <td>1.115205e-08</td>\n",
       "      <td>NaN</td>\n",
       "      <td>ce</td>\n",
       "      <td>db</td>\n",
       "      <td>...</td>\n",
       "      <td>0</td>\n",
       "      <td>0</td>\n",
       "      <td>0</td>\n",
       "      <td>0</td>\n",
       "      <td>0</td>\n",
       "      <td>0</td>\n",
       "      <td>0</td>\n",
       "      <td>0</td>\n",
       "      <td>0</td>\n",
       "      <td>0</td>\n",
       "    </tr>\n",
       "    <tr>\n",
       "      <th>1</th>\n",
       "      <td>7.965789e-06</td>\n",
       "      <td>0.157872</td>\n",
       "      <td>0.0</td>\n",
       "      <td>2.105000e-06</td>\n",
       "      <td>2.769737e-07</td>\n",
       "      <td>7.965789e-06</td>\n",
       "      <td>2.433058e-06</td>\n",
       "      <td>da</td>\n",
       "      <td>tn</td>\n",
       "      <td>zl</td>\n",
       "      <td>...</td>\n",
       "      <td>0</td>\n",
       "      <td>0</td>\n",
       "      <td>0</td>\n",
       "      <td>0</td>\n",
       "      <td>0</td>\n",
       "      <td>0</td>\n",
       "      <td>0</td>\n",
       "      <td>0</td>\n",
       "      <td>0</td>\n",
       "      <td>0</td>\n",
       "    </tr>\n",
       "    <tr>\n",
       "      <th>2</th>\n",
       "      <td>7.828947e-08</td>\n",
       "      <td>0.089140</td>\n",
       "      <td>0.0</td>\n",
       "      <td>3.550000e-07</td>\n",
       "      <td>4.671053e-08</td>\n",
       "      <td>1.052632e-07</td>\n",
       "      <td>4.276014e-07</td>\n",
       "      <td>gf</td>\n",
       "      <td>ce</td>\n",
       "      <td>gs</td>\n",
       "      <td>...</td>\n",
       "      <td>0</td>\n",
       "      <td>0</td>\n",
       "      <td>0</td>\n",
       "      <td>0</td>\n",
       "      <td>0</td>\n",
       "      <td>0</td>\n",
       "      <td>0</td>\n",
       "      <td>0</td>\n",
       "      <td>0</td>\n",
       "      <td>0</td>\n",
       "    </tr>\n",
       "    <tr>\n",
       "      <th>3</th>\n",
       "      <td>7.894737e-08</td>\n",
       "      <td>0.227239</td>\n",
       "      <td>0.0</td>\n",
       "      <td>1.050000e-06</td>\n",
       "      <td>1.381579e-07</td>\n",
       "      <td>2.190789e-07</td>\n",
       "      <td>1.848054e-08</td>\n",
       "      <td>NaN</td>\n",
       "      <td>ce</td>\n",
       "      <td>fy</td>\n",
       "      <td>...</td>\n",
       "      <td>0</td>\n",
       "      <td>0</td>\n",
       "      <td>0</td>\n",
       "      <td>0</td>\n",
       "      <td>0</td>\n",
       "      <td>0</td>\n",
       "      <td>0</td>\n",
       "      <td>0</td>\n",
       "      <td>0</td>\n",
       "      <td>0</td>\n",
       "    </tr>\n",
       "    <tr>\n",
       "      <th>4</th>\n",
       "      <td>3.321053e-06</td>\n",
       "      <td>0.160410</td>\n",
       "      <td>0.0</td>\n",
       "      <td>2.105000e-06</td>\n",
       "      <td>2.769737e-07</td>\n",
       "      <td>3.340789e-06</td>\n",
       "      <td>2.152983e-06</td>\n",
       "      <td>da</td>\n",
       "      <td>tn</td>\n",
       "      <td>zn</td>\n",
       "      <td>...</td>\n",
       "      <td>0</td>\n",
       "      <td>0</td>\n",
       "      <td>0</td>\n",
       "      <td>0</td>\n",
       "      <td>0</td>\n",
       "      <td>0</td>\n",
       "      <td>0</td>\n",
       "      <td>0</td>\n",
       "      <td>0</td>\n",
       "      <td>0</td>\n",
       "    </tr>\n",
       "  </tbody>\n",
       "</table>\n",
       "<p>5 rows × 49 columns</p>\n",
       "</div>"
      ],
      "text/plain": [
       "      num_var_1  num_var_2  num_var_3     num_var_4     num_var_5  \\\n",
       "0  2.302632e-08   0.040182        0.0  1.800000e-07  2.302632e-08   \n",
       "1  7.965789e-06   0.157872        0.0  2.105000e-06  2.769737e-07   \n",
       "2  7.828947e-08   0.089140        0.0  3.550000e-07  4.671053e-08   \n",
       "3  7.894737e-08   0.227239        0.0  1.050000e-06  1.381579e-07   \n",
       "4  3.321053e-06   0.160410        0.0  2.105000e-06  2.769737e-07   \n",
       "\n",
       "      num_var_6     num_var_7 cat_var_1 cat_var_2 cat_var_3    ...      \\\n",
       "0  2.368421e-08  1.115205e-08       NaN        ce        db    ...       \n",
       "1  7.965789e-06  2.433058e-06        da        tn        zl    ...       \n",
       "2  1.052632e-07  4.276014e-07        gf        ce        gs    ...       \n",
       "3  2.190789e-07  1.848054e-08       NaN        ce        fy    ...       \n",
       "4  3.340789e-06  2.152983e-06        da        tn        zn    ...       \n",
       "\n",
       "  cat_var_33 cat_var_34 cat_var_35 cat_var_36 cat_var_37 cat_var_38  \\\n",
       "0          0          0          0          0          0          0   \n",
       "1          0          0          0          0          0          0   \n",
       "2          0          0          0          0          0          0   \n",
       "3          0          0          0          0          0          0   \n",
       "4          0          0          0          0          0          0   \n",
       "\n",
       "  cat_var_39 cat_var_40 cat_var_41 cat_var_42  \n",
       "0          0          0          0          0  \n",
       "1          0          0          0          0  \n",
       "2          0          0          0          0  \n",
       "3          0          0          0          0  \n",
       "4          0          0          0          0  \n",
       "\n",
       "[5 rows x 49 columns]"
      ]
     },
     "execution_count": 6,
     "metadata": {},
     "output_type": "execute_result"
    }
   ],
   "source": [
    "train_data.head()"
   ]
  },
  {
   "cell_type": "code",
   "execution_count": 7,
   "metadata": {
    "collapsed": true
   },
   "outputs": [],
   "source": [
    "import seaborn as sns\n",
    "import matplotlib.pyplot as plt\n",
    "arr = []\n",
    "for i in train_data.head(0):\n",
    "    arr.append(i)\n",
    "    # sns.distplot(train_data[str(i)]);\n",
    "    #print(i)\n",
    "    #sns.pairplot(result)\n",
    "    #plt.show()\n",
    "#for j in arr:\n",
    "#    sns.distplot(train_data[str(j)]);    \n",
    "#    plt.show()\n",
    "    "
   ]
  },
  {
   "cell_type": "code",
   "execution_count": 8,
   "metadata": {},
   "outputs": [
    {
     "data": {
      "text/plain": [
       "[(348978, 49), (348978,)]"
      ]
     },
     "execution_count": 8,
     "metadata": {},
     "output_type": "execute_result"
    }
   ],
   "source": [
    "[train_data.shape,label.shape]"
   ]
  },
  {
   "cell_type": "code",
   "execution_count": 9,
   "metadata": {
    "collapsed": true
   },
   "outputs": [],
   "source": [
    "for i in train_data.head(0):\n",
    "    train_data[i].fillna('no_'+i,inplace=True)"
   ]
  },
  {
   "cell_type": "code",
   "execution_count": 10,
   "metadata": {
    "collapsed": true
   },
   "outputs": [],
   "source": [
    "from sklearn import preprocessing"
   ]
  },
  {
   "cell_type": "code",
   "execution_count": 11,
   "metadata": {
    "collapsed": true
   },
   "outputs": [],
   "source": [
    "for i in train_data.head(0):    \n",
    "    if (i not in ['num_var_1','num_var_2','num_var_3','num_var_4','num_var_5','num_var_6','num_var_7']):\n",
    "        lbl = preprocessing.LabelEncoder()\n",
    "        train_data[i] = lbl.fit_transform(train_data[i])"
   ]
  },
  {
   "cell_type": "code",
   "execution_count": 12,
   "metadata": {
    "collapsed": true
   },
   "outputs": [],
   "source": [
    "#for i in train_data.head(0):\n",
    "#    print(\" {} and sum ::{} \".format(i,train_data[i].mean()))"
   ]
  },
  {
   "cell_type": "code",
   "execution_count": 13,
   "metadata": {
    "collapsed": true
   },
   "outputs": [],
   "source": [
    "train_data.drop(['cat_var_26','cat_var_27','cat_var_28','cat_var_29','cat_var_31','cat_var_36','cat_var_37','cat_var_38','cat_var_39','cat_var_40','cat_var_41','cat_var_42'],axis = 1,inplace = True)\n",
    "       "
   ]
  },
  {
   "cell_type": "code",
   "execution_count": 14,
   "metadata": {},
   "outputs": [
    {
     "data": {
      "text/plain": [
       "(348978, 37)"
      ]
     },
     "execution_count": 14,
     "metadata": {},
     "output_type": "execute_result"
    }
   ],
   "source": [
    "train_data.shape"
   ]
  },
  {
   "cell_type": "code",
   "execution_count": 15,
   "metadata": {
    "collapsed": true
   },
   "outputs": [],
   "source": [
    "from sklearn.model_selection import train_test_split"
   ]
  },
  {
   "cell_type": "code",
   "execution_count": 16,
   "metadata": {
    "collapsed": true
   },
   "outputs": [],
   "source": [
    "from sklearn.preprocessing import RobustScaler"
   ]
  },
  {
   "cell_type": "code",
   "execution_count": 17,
   "metadata": {
    "collapsed": true
   },
   "outputs": [],
   "source": [
    "scalled_train_data = RobustScaler().fit_transform(train_data)\n",
    "#from scipy.stats import zscore\n",
    "#scalled_train_data = train_data.apply(zscore)"
   ]
  },
  {
   "cell_type": "code",
   "execution_count": 18,
   "metadata": {
    "collapsed": true
   },
   "outputs": [],
   "source": [
    "x_train,x_test,y_train,y_test = train_test_split(scalled_train_data,label,test_size = 0.3,random_state = 30)"
   ]
  },
  {
   "cell_type": "code",
   "execution_count": 19,
   "metadata": {},
   "outputs": [
    {
     "data": {
      "text/plain": [
       "([(244284, 37), (244284,)], [(104694, 37), (104694,)])"
      ]
     },
     "execution_count": 19,
     "metadata": {},
     "output_type": "execute_result"
    }
   ],
   "source": [
    "[x_train.shape,y_train.shape],[x_test.shape,y_test.shape]"
   ]
  },
  {
   "cell_type": "code",
   "execution_count": 20,
   "metadata": {
    "collapsed": true
   },
   "outputs": [],
   "source": [
    "#from sklearn.calibration import CalibratedClassifierCV\n",
    "#cal = CalibratedClassifierCV().fit(x_train,y_train)\n",
    "#cal.predict(y_test)"
   ]
  },
  {
   "cell_type": "code",
   "execution_count": 21,
   "metadata": {
    "collapsed": true
   },
   "outputs": [],
   "source": [
    "from sklearn.metrics import accuracy_score"
   ]
  },
  {
   "cell_type": "code",
   "execution_count": 22,
   "metadata": {
    "collapsed": true
   },
   "outputs": [],
   "source": [
    "from sklearn.metrics import roc_auc_score\n"
   ]
  },
  {
   "cell_type": "code",
   "execution_count": 23,
   "metadata": {
    "collapsed": true
   },
   "outputs": [],
   "source": [
    "#x_train"
   ]
  },
  {
   "cell_type": "markdown",
   "metadata": {},
   "source": [
    "# Random Forest"
   ]
  },
  {
   "cell_type": "code",
   "execution_count": 24,
   "metadata": {
    "collapsed": true
   },
   "outputs": [],
   "source": [
    "from sklearn.ensemble import RandomForestClassifier"
   ]
  },
  {
   "cell_type": "code",
   "execution_count": 25,
   "metadata": {
    "collapsed": true
   },
   "outputs": [],
   "source": [
    "clf_random_forest = RandomForestClassifier(n_estimators =100,n_jobs =-1,max_features =6,random_state=0).fit(x_train,y_train)"
   ]
  },
  {
   "cell_type": "code",
   "execution_count": 26,
   "metadata": {
    "collapsed": true
   },
   "outputs": [],
   "source": [
    "r_pred = clf_random_forest.predict(x_test)"
   ]
  },
  {
   "cell_type": "code",
   "execution_count": 27,
   "metadata": {},
   "outputs": [
    {
     "data": {
      "text/plain": [
       "0.92966168070758592"
      ]
     },
     "execution_count": 27,
     "metadata": {},
     "output_type": "execute_result"
    }
   ],
   "source": [
    "accuracy_score(y_test,r_pred)"
   ]
  },
  {
   "cell_type": "code",
   "execution_count": 28,
   "metadata": {},
   "outputs": [
    {
     "data": {
      "text/plain": [
       "0.69321206051649675"
      ]
     },
     "execution_count": 28,
     "metadata": {},
     "output_type": "execute_result"
    }
   ],
   "source": [
    "roc_auc_score(y_test,r_pred)"
   ]
  },
  {
   "cell_type": "code",
   "execution_count": 29,
   "metadata": {
    "collapsed": true
   },
   "outputs": [],
   "source": [
    "#clf.predict_proba(x_test)"
   ]
  },
  {
   "cell_type": "markdown",
   "metadata": {},
   "source": [
    "# Test"
   ]
  },
  {
   "cell_type": "code",
   "execution_count": 30,
   "metadata": {
    "collapsed": true
   },
   "outputs": [],
   "source": [
    "test = pd.read_csv('test.csv')"
   ]
  },
  {
   "cell_type": "code",
   "execution_count": 31,
   "metadata": {},
   "outputs": [
    {
     "data": {
      "text/html": [
       "<div>\n",
       "<style>\n",
       "    .dataframe thead tr:only-child th {\n",
       "        text-align: right;\n",
       "    }\n",
       "\n",
       "    .dataframe thead th {\n",
       "        text-align: left;\n",
       "    }\n",
       "\n",
       "    .dataframe tbody tr th {\n",
       "        vertical-align: top;\n",
       "    }\n",
       "</style>\n",
       "<table border=\"1\" class=\"dataframe\">\n",
       "  <thead>\n",
       "    <tr style=\"text-align: right;\">\n",
       "      <th></th>\n",
       "      <th>transaction_id</th>\n",
       "      <th>num_var_1</th>\n",
       "      <th>num_var_2</th>\n",
       "      <th>num_var_3</th>\n",
       "      <th>num_var_4</th>\n",
       "      <th>num_var_5</th>\n",
       "      <th>num_var_6</th>\n",
       "      <th>num_var_7</th>\n",
       "      <th>cat_var_1</th>\n",
       "      <th>cat_var_2</th>\n",
       "      <th>...</th>\n",
       "      <th>cat_var_33</th>\n",
       "      <th>cat_var_34</th>\n",
       "      <th>cat_var_35</th>\n",
       "      <th>cat_var_36</th>\n",
       "      <th>cat_var_37</th>\n",
       "      <th>cat_var_38</th>\n",
       "      <th>cat_var_39</th>\n",
       "      <th>cat_var_40</th>\n",
       "      <th>cat_var_41</th>\n",
       "      <th>cat_var_42</th>\n",
       "    </tr>\n",
       "  </thead>\n",
       "  <tbody>\n",
       "    <tr>\n",
       "      <th>0</th>\n",
       "      <td>id_1</td>\n",
       "      <td>4.736842e-07</td>\n",
       "      <td>0.162737</td>\n",
       "      <td>0.0</td>\n",
       "      <td>2.105000e-06</td>\n",
       "      <td>2.769737e-07</td>\n",
       "      <td>4.828947e-07</td>\n",
       "      <td>1.300010e-07</td>\n",
       "      <td>da</td>\n",
       "      <td>tn</td>\n",
       "      <td>...</td>\n",
       "      <td>0</td>\n",
       "      <td>0</td>\n",
       "      <td>0</td>\n",
       "      <td>0</td>\n",
       "      <td>0</td>\n",
       "      <td>0</td>\n",
       "      <td>0</td>\n",
       "      <td>0</td>\n",
       "      <td>0</td>\n",
       "      <td>0</td>\n",
       "    </tr>\n",
       "    <tr>\n",
       "      <th>1</th>\n",
       "      <td>id_6</td>\n",
       "      <td>6.578947e-08</td>\n",
       "      <td>0.086391</td>\n",
       "      <td>0.0</td>\n",
       "      <td>7.500000e-07</td>\n",
       "      <td>1.315789e-07</td>\n",
       "      <td>9.868421e-08</td>\n",
       "      <td>3.186300e-08</td>\n",
       "      <td>pu</td>\n",
       "      <td>ce</td>\n",
       "      <td>...</td>\n",
       "      <td>0</td>\n",
       "      <td>0</td>\n",
       "      <td>0</td>\n",
       "      <td>0</td>\n",
       "      <td>0</td>\n",
       "      <td>0</td>\n",
       "      <td>0</td>\n",
       "      <td>0</td>\n",
       "      <td>0</td>\n",
       "      <td>0</td>\n",
       "    </tr>\n",
       "    <tr>\n",
       "      <th>2</th>\n",
       "      <td>id_9</td>\n",
       "      <td>1.585526e-07</td>\n",
       "      <td>0.159987</td>\n",
       "      <td>0.0</td>\n",
       "      <td>2.105000e-06</td>\n",
       "      <td>2.769737e-07</td>\n",
       "      <td>1.585526e-07</td>\n",
       "      <td>4.715724e-08</td>\n",
       "      <td>da</td>\n",
       "      <td>tn</td>\n",
       "      <td>...</td>\n",
       "      <td>0</td>\n",
       "      <td>0</td>\n",
       "      <td>0</td>\n",
       "      <td>0</td>\n",
       "      <td>0</td>\n",
       "      <td>0</td>\n",
       "      <td>0</td>\n",
       "      <td>0</td>\n",
       "      <td>0</td>\n",
       "      <td>0</td>\n",
       "    </tr>\n",
       "    <tr>\n",
       "      <th>3</th>\n",
       "      <td>id_14</td>\n",
       "      <td>8.552632e-08</td>\n",
       "      <td>0.088083</td>\n",
       "      <td>0.0</td>\n",
       "      <td>7.500000e-07</td>\n",
       "      <td>8.552632e-08</td>\n",
       "      <td>9.868421e-08</td>\n",
       "      <td>4.142190e-08</td>\n",
       "      <td>pu</td>\n",
       "      <td>ce</td>\n",
       "      <td>...</td>\n",
       "      <td>0</td>\n",
       "      <td>0</td>\n",
       "      <td>0</td>\n",
       "      <td>0</td>\n",
       "      <td>0</td>\n",
       "      <td>0</td>\n",
       "      <td>0</td>\n",
       "      <td>0</td>\n",
       "      <td>0</td>\n",
       "      <td>0</td>\n",
       "    </tr>\n",
       "    <tr>\n",
       "      <th>4</th>\n",
       "      <td>id_15</td>\n",
       "      <td>1.144737e-07</td>\n",
       "      <td>0.089563</td>\n",
       "      <td>0.0</td>\n",
       "      <td>3.550000e-07</td>\n",
       "      <td>4.671053e-08</td>\n",
       "      <td>4.407895e-08</td>\n",
       "      <td>1.452953e-07</td>\n",
       "      <td>gf</td>\n",
       "      <td>ce</td>\n",
       "      <td>...</td>\n",
       "      <td>0</td>\n",
       "      <td>0</td>\n",
       "      <td>0</td>\n",
       "      <td>0</td>\n",
       "      <td>0</td>\n",
       "      <td>0</td>\n",
       "      <td>0</td>\n",
       "      <td>0</td>\n",
       "      <td>0</td>\n",
       "      <td>0</td>\n",
       "    </tr>\n",
       "  </tbody>\n",
       "</table>\n",
       "<p>5 rows × 50 columns</p>\n",
       "</div>"
      ],
      "text/plain": [
       "  transaction_id     num_var_1  num_var_2  num_var_3     num_var_4  \\\n",
       "0           id_1  4.736842e-07   0.162737        0.0  2.105000e-06   \n",
       "1           id_6  6.578947e-08   0.086391        0.0  7.500000e-07   \n",
       "2           id_9  1.585526e-07   0.159987        0.0  2.105000e-06   \n",
       "3          id_14  8.552632e-08   0.088083        0.0  7.500000e-07   \n",
       "4          id_15  1.144737e-07   0.089563        0.0  3.550000e-07   \n",
       "\n",
       "      num_var_5     num_var_6     num_var_7 cat_var_1 cat_var_2    ...      \\\n",
       "0  2.769737e-07  4.828947e-07  1.300010e-07        da        tn    ...       \n",
       "1  1.315789e-07  9.868421e-08  3.186300e-08        pu        ce    ...       \n",
       "2  2.769737e-07  1.585526e-07  4.715724e-08        da        tn    ...       \n",
       "3  8.552632e-08  9.868421e-08  4.142190e-08        pu        ce    ...       \n",
       "4  4.671053e-08  4.407895e-08  1.452953e-07        gf        ce    ...       \n",
       "\n",
       "  cat_var_33 cat_var_34 cat_var_35 cat_var_36 cat_var_37 cat_var_38  \\\n",
       "0          0          0          0          0          0          0   \n",
       "1          0          0          0          0          0          0   \n",
       "2          0          0          0          0          0          0   \n",
       "3          0          0          0          0          0          0   \n",
       "4          0          0          0          0          0          0   \n",
       "\n",
       "  cat_var_39 cat_var_40 cat_var_41 cat_var_42  \n",
       "0          0          0          0          0  \n",
       "1          0          0          0          0  \n",
       "2          0          0          0          0  \n",
       "3          0          0          0          0  \n",
       "4          0          0          0          0  \n",
       "\n",
       "[5 rows x 50 columns]"
      ]
     },
     "execution_count": 31,
     "metadata": {},
     "output_type": "execute_result"
    }
   ],
   "source": [
    "test.head()"
   ]
  },
  {
   "cell_type": "code",
   "execution_count": 32,
   "metadata": {
    "collapsed": true
   },
   "outputs": [],
   "source": [
    "test_data = test.iloc[:,1:50]\n",
    "#test_data.drop(['cat_var_36','cat_var_37','cat_var_38','cat_var_39','cat_var_40','cat_var_41','cat_var_42'],axis = 1,inplace = True)\n",
    "test_data.drop(['cat_var_26','cat_var_27','cat_var_28','cat_var_29','cat_var_31','cat_var_36','cat_var_37','cat_var_38','cat_var_39','cat_var_40','cat_var_41','cat_var_42'],axis = 1,inplace = True)"
   ]
  },
  {
   "cell_type": "code",
   "execution_count": 33,
   "metadata": {
    "scrolled": true
   },
   "outputs": [
    {
     "data": {
      "text/html": [
       "<div>\n",
       "<style>\n",
       "    .dataframe thead tr:only-child th {\n",
       "        text-align: right;\n",
       "    }\n",
       "\n",
       "    .dataframe thead th {\n",
       "        text-align: left;\n",
       "    }\n",
       "\n",
       "    .dataframe tbody tr th {\n",
       "        vertical-align: top;\n",
       "    }\n",
       "</style>\n",
       "<table border=\"1\" class=\"dataframe\">\n",
       "  <thead>\n",
       "    <tr style=\"text-align: right;\">\n",
       "      <th></th>\n",
       "      <th>num_var_1</th>\n",
       "      <th>num_var_2</th>\n",
       "      <th>num_var_3</th>\n",
       "      <th>num_var_4</th>\n",
       "      <th>num_var_5</th>\n",
       "      <th>num_var_6</th>\n",
       "      <th>num_var_7</th>\n",
       "      <th>cat_var_1</th>\n",
       "      <th>cat_var_2</th>\n",
       "      <th>cat_var_3</th>\n",
       "      <th>...</th>\n",
       "      <th>cat_var_21</th>\n",
       "      <th>cat_var_22</th>\n",
       "      <th>cat_var_23</th>\n",
       "      <th>cat_var_24</th>\n",
       "      <th>cat_var_25</th>\n",
       "      <th>cat_var_30</th>\n",
       "      <th>cat_var_32</th>\n",
       "      <th>cat_var_33</th>\n",
       "      <th>cat_var_34</th>\n",
       "      <th>cat_var_35</th>\n",
       "    </tr>\n",
       "  </thead>\n",
       "  <tbody>\n",
       "    <tr>\n",
       "      <th>0</th>\n",
       "      <td>4.736842e-07</td>\n",
       "      <td>0.162737</td>\n",
       "      <td>0.0</td>\n",
       "      <td>2.105000e-06</td>\n",
       "      <td>2.769737e-07</td>\n",
       "      <td>4.828947e-07</td>\n",
       "      <td>1.300010e-07</td>\n",
       "      <td>da</td>\n",
       "      <td>tn</td>\n",
       "      <td>gt</td>\n",
       "      <td>...</td>\n",
       "      <td>1</td>\n",
       "      <td>0</td>\n",
       "      <td>0</td>\n",
       "      <td>1</td>\n",
       "      <td>0</td>\n",
       "      <td>0</td>\n",
       "      <td>0</td>\n",
       "      <td>0</td>\n",
       "      <td>0</td>\n",
       "      <td>0</td>\n",
       "    </tr>\n",
       "    <tr>\n",
       "      <th>1</th>\n",
       "      <td>6.578947e-08</td>\n",
       "      <td>0.086391</td>\n",
       "      <td>0.0</td>\n",
       "      <td>7.500000e-07</td>\n",
       "      <td>1.315789e-07</td>\n",
       "      <td>9.868421e-08</td>\n",
       "      <td>3.186300e-08</td>\n",
       "      <td>pu</td>\n",
       "      <td>ce</td>\n",
       "      <td>NaN</td>\n",
       "      <td>...</td>\n",
       "      <td>1</td>\n",
       "      <td>0</td>\n",
       "      <td>0</td>\n",
       "      <td>1</td>\n",
       "      <td>0</td>\n",
       "      <td>0</td>\n",
       "      <td>0</td>\n",
       "      <td>0</td>\n",
       "      <td>0</td>\n",
       "      <td>0</td>\n",
       "    </tr>\n",
       "    <tr>\n",
       "      <th>2</th>\n",
       "      <td>1.585526e-07</td>\n",
       "      <td>0.159987</td>\n",
       "      <td>0.0</td>\n",
       "      <td>2.105000e-06</td>\n",
       "      <td>2.769737e-07</td>\n",
       "      <td>1.585526e-07</td>\n",
       "      <td>4.715724e-08</td>\n",
       "      <td>da</td>\n",
       "      <td>tn</td>\n",
       "      <td>qz</td>\n",
       "      <td>...</td>\n",
       "      <td>1</td>\n",
       "      <td>0</td>\n",
       "      <td>0</td>\n",
       "      <td>1</td>\n",
       "      <td>0</td>\n",
       "      <td>0</td>\n",
       "      <td>0</td>\n",
       "      <td>0</td>\n",
       "      <td>0</td>\n",
       "      <td>0</td>\n",
       "    </tr>\n",
       "    <tr>\n",
       "      <th>3</th>\n",
       "      <td>8.552632e-08</td>\n",
       "      <td>0.088083</td>\n",
       "      <td>0.0</td>\n",
       "      <td>7.500000e-07</td>\n",
       "      <td>8.552632e-08</td>\n",
       "      <td>9.868421e-08</td>\n",
       "      <td>4.142190e-08</td>\n",
       "      <td>pu</td>\n",
       "      <td>ce</td>\n",
       "      <td>ex</td>\n",
       "      <td>...</td>\n",
       "      <td>1</td>\n",
       "      <td>0</td>\n",
       "      <td>0</td>\n",
       "      <td>1</td>\n",
       "      <td>0</td>\n",
       "      <td>0</td>\n",
       "      <td>0</td>\n",
       "      <td>0</td>\n",
       "      <td>0</td>\n",
       "      <td>0</td>\n",
       "    </tr>\n",
       "    <tr>\n",
       "      <th>4</th>\n",
       "      <td>1.144737e-07</td>\n",
       "      <td>0.089563</td>\n",
       "      <td>0.0</td>\n",
       "      <td>3.550000e-07</td>\n",
       "      <td>4.671053e-08</td>\n",
       "      <td>4.407895e-08</td>\n",
       "      <td>1.452953e-07</td>\n",
       "      <td>gf</td>\n",
       "      <td>ce</td>\n",
       "      <td>NaN</td>\n",
       "      <td>...</td>\n",
       "      <td>0</td>\n",
       "      <td>1</td>\n",
       "      <td>0</td>\n",
       "      <td>1</td>\n",
       "      <td>0</td>\n",
       "      <td>0</td>\n",
       "      <td>0</td>\n",
       "      <td>0</td>\n",
       "      <td>0</td>\n",
       "      <td>0</td>\n",
       "    </tr>\n",
       "  </tbody>\n",
       "</table>\n",
       "<p>5 rows × 37 columns</p>\n",
       "</div>"
      ],
      "text/plain": [
       "      num_var_1  num_var_2  num_var_3     num_var_4     num_var_5  \\\n",
       "0  4.736842e-07   0.162737        0.0  2.105000e-06  2.769737e-07   \n",
       "1  6.578947e-08   0.086391        0.0  7.500000e-07  1.315789e-07   \n",
       "2  1.585526e-07   0.159987        0.0  2.105000e-06  2.769737e-07   \n",
       "3  8.552632e-08   0.088083        0.0  7.500000e-07  8.552632e-08   \n",
       "4  1.144737e-07   0.089563        0.0  3.550000e-07  4.671053e-08   \n",
       "\n",
       "      num_var_6     num_var_7 cat_var_1 cat_var_2 cat_var_3    ...      \\\n",
       "0  4.828947e-07  1.300010e-07        da        tn        gt    ...       \n",
       "1  9.868421e-08  3.186300e-08        pu        ce       NaN    ...       \n",
       "2  1.585526e-07  4.715724e-08        da        tn        qz    ...       \n",
       "3  9.868421e-08  4.142190e-08        pu        ce        ex    ...       \n",
       "4  4.407895e-08  1.452953e-07        gf        ce       NaN    ...       \n",
       "\n",
       "  cat_var_21 cat_var_22 cat_var_23 cat_var_24 cat_var_25 cat_var_30  \\\n",
       "0          1          0          0          1          0          0   \n",
       "1          1          0          0          1          0          0   \n",
       "2          1          0          0          1          0          0   \n",
       "3          1          0          0          1          0          0   \n",
       "4          0          1          0          1          0          0   \n",
       "\n",
       "  cat_var_32 cat_var_33 cat_var_34 cat_var_35  \n",
       "0          0          0          0          0  \n",
       "1          0          0          0          0  \n",
       "2          0          0          0          0  \n",
       "3          0          0          0          0  \n",
       "4          0          0          0          0  \n",
       "\n",
       "[5 rows x 37 columns]"
      ]
     },
     "execution_count": 33,
     "metadata": {},
     "output_type": "execute_result"
    }
   ],
   "source": [
    "test_data.head()"
   ]
  },
  {
   "cell_type": "code",
   "execution_count": 34,
   "metadata": {
    "collapsed": true
   },
   "outputs": [],
   "source": [
    "for i in test_data.head(0):\n",
    "    test_data[i].fillna('no_'+i,inplace=True)"
   ]
  },
  {
   "cell_type": "code",
   "execution_count": 35,
   "metadata": {
    "collapsed": true
   },
   "outputs": [],
   "source": [
    "for i in test_data.head(0):    \n",
    "    if (i not in ['num_var_1','num_var_2','num_var_3','num_var_4','num_var_5','num_var_6','num_var_7']):\n",
    "        lbl = preprocessing.LabelEncoder()\n",
    "        test_data[i] = lbl.fit_transform(test_data[i])"
   ]
  },
  {
   "cell_type": "code",
   "execution_count": 36,
   "metadata": {},
   "outputs": [
    {
     "name": "stdout",
     "output_type": "stream",
     "text": [
      "train data ::(348978, 37) test data ::(523466, 37)\n"
     ]
    }
   ],
   "source": [
    "print(\"train data ::{} test data ::{}\".format(train_data.shape,test_data.shape))"
   ]
  },
  {
   "cell_type": "code",
   "execution_count": 37,
   "metadata": {
    "collapsed": true
   },
   "outputs": [],
   "source": [
    "scalled_test_data = RobustScaler().fit_transform(test_data)"
   ]
  },
  {
   "cell_type": "code",
   "execution_count": 38,
   "metadata": {
    "collapsed": true
   },
   "outputs": [],
   "source": [
    "#test_data_pred_prob = clf.predict_proba(test_data)\n",
    "#test_data_pred_prob = clftree.predict_proba(scalled_test_data)\n",
    "test_data_pred_prob = clf_random_forest.predict_proba(scalled_test_data)"
   ]
  },
  {
   "cell_type": "code",
   "execution_count": 39,
   "metadata": {},
   "outputs": [
    {
     "data": {
      "text/plain": [
       "array([[ 0.96,  0.04],\n",
       "       [ 0.97,  0.03],\n",
       "       [ 0.66,  0.34],\n",
       "       ..., \n",
       "       [ 0.76,  0.24],\n",
       "       [ 0.74,  0.26],\n",
       "       [ 0.92,  0.08]])"
      ]
     },
     "execution_count": 39,
     "metadata": {},
     "output_type": "execute_result"
    }
   ],
   "source": [
    "test_data_pred_prob"
   ]
  },
  {
   "cell_type": "code",
   "execution_count": 40,
   "metadata": {
    "collapsed": true
   },
   "outputs": [],
   "source": [
    "submission = pd.DataFrame({'transaction_id':test['transaction_id'],\n",
    "                           'target':test_data_pred_prob[:,1]})"
   ]
  },
  {
   "cell_type": "code",
   "execution_count": 41,
   "metadata": {
    "collapsed": true
   },
   "outputs": [],
   "source": [
    "submission.to_csv('submission.csv',index = False,columns=['transaction_id', 'target'])"
   ]
  },
  {
   "cell_type": "code",
   "execution_count": null,
   "metadata": {
    "collapsed": true
   },
   "outputs": [],
   "source": []
  },
  {
   "cell_type": "code",
   "execution_count": null,
   "metadata": {
    "collapsed": true
   },
   "outputs": [],
   "source": [
    "def Grid_Search_CV_RFR(X_train, y_train):\n",
    "    from sklearn.model_selection import GridSearchCV\n",
    "    from sklearn.model_selection import ShuffleSplit\n",
    "    from sklearn.ensemble import RandomForestRegressor\n",
    "    from sklearn.ensemble import ExtraTreesClassifier\n",
    "\n",
    "    estimator = RandomForestRegressor()\n",
    "    param_grid = { \n",
    "            \"n_estimators\"      : [10,50,100],\n",
    "            \"max_features\"      : [\"auto\", \"sqrt\", \"log2\"],\n",
    "            \"min_samples_split\" : [2,4,8],\n",
    "            \"bootstrap\": [True, False],\n",
    "            }\n",
    "\n",
    "    grid = GridSearchCV(estimator, param_grid, n_jobs=-1, cv=5)\n",
    "    grid.fit(X_train, y_train)\n",
    "    return grid.best_score_ , grid.best_params_"
   ]
  },
  {
   "cell_type": "code",
   "execution_count": null,
   "metadata": {
    "collapsed": true
   },
   "outputs": [],
   "source": [
    "Grid_Search_CV_RFR(x_train,y_train)"
   ]
  },
  {
   "cell_type": "code",
   "execution_count": null,
   "metadata": {
    "collapsed": true
   },
   "outputs": [],
   "source": []
  },
  {
   "cell_type": "code",
   "execution_count": null,
   "metadata": {
    "collapsed": true
   },
   "outputs": [],
   "source": []
  },
  {
   "cell_type": "code",
   "execution_count": null,
   "metadata": {
    "collapsed": true
   },
   "outputs": [],
   "source": []
  },
  {
   "cell_type": "code",
   "execution_count": null,
   "metadata": {
    "collapsed": true
   },
   "outputs": [],
   "source": []
  },
  {
   "cell_type": "code",
   "execution_count": null,
   "metadata": {
    "collapsed": true
   },
   "outputs": [],
   "source": []
  },
  {
   "cell_type": "code",
   "execution_count": null,
   "metadata": {
    "collapsed": true
   },
   "outputs": [],
   "source": []
  },
  {
   "cell_type": "code",
   "execution_count": null,
   "metadata": {
    "collapsed": true
   },
   "outputs": [],
   "source": []
  },
  {
   "cell_type": "code",
   "execution_count": null,
   "metadata": {
    "collapsed": true
   },
   "outputs": [],
   "source": []
  },
  {
   "cell_type": "code",
   "execution_count": null,
   "metadata": {
    "collapsed": true
   },
   "outputs": [],
   "source": []
  },
  {
   "cell_type": "code",
   "execution_count": null,
   "metadata": {
    "collapsed": true
   },
   "outputs": [],
   "source": []
  },
  {
   "cell_type": "code",
   "execution_count": null,
   "metadata": {
    "collapsed": true
   },
   "outputs": [],
   "source": []
  },
  {
   "cell_type": "code",
   "execution_count": null,
   "metadata": {
    "collapsed": true
   },
   "outputs": [],
   "source": []
  },
  {
   "cell_type": "code",
   "execution_count": null,
   "metadata": {
    "collapsed": true
   },
   "outputs": [],
   "source": []
  },
  {
   "cell_type": "code",
   "execution_count": null,
   "metadata": {
    "collapsed": true
   },
   "outputs": [],
   "source": []
  },
  {
   "cell_type": "code",
   "execution_count": null,
   "metadata": {
    "collapsed": true
   },
   "outputs": [],
   "source": []
  },
  {
   "cell_type": "code",
   "execution_count": null,
   "metadata": {
    "collapsed": true
   },
   "outputs": [],
   "source": []
  },
  {
   "cell_type": "code",
   "execution_count": null,
   "metadata": {
    "collapsed": true
   },
   "outputs": [],
   "source": []
  },
  {
   "cell_type": "code",
   "execution_count": null,
   "metadata": {
    "collapsed": true
   },
   "outputs": [],
   "source": []
  },
  {
   "cell_type": "code",
   "execution_count": null,
   "metadata": {
    "collapsed": true
   },
   "outputs": [],
   "source": []
  },
  {
   "cell_type": "code",
   "execution_count": null,
   "metadata": {
    "collapsed": true
   },
   "outputs": [],
   "source": []
  },
  {
   "cell_type": "code",
   "execution_count": null,
   "metadata": {
    "collapsed": true
   },
   "outputs": [],
   "source": []
  },
  {
   "cell_type": "code",
   "execution_count": null,
   "metadata": {
    "collapsed": true
   },
   "outputs": [],
   "source": []
  }
 ],
 "metadata": {
  "kernelspec": {
   "display_name": "Python 3",
   "language": "python",
   "name": "python3"
  },
  "language_info": {
   "codemirror_mode": {
    "name": "ipython",
    "version": 3
   },
   "file_extension": ".py",
   "mimetype": "text/x-python",
   "name": "python",
   "nbconvert_exporter": "python",
   "pygments_lexer": "ipython3",
   "version": "3.6.3"
  }
 },
 "nbformat": 4,
 "nbformat_minor": 2
}
